{
  "nbformat": 4,
  "nbformat_minor": 0,
  "metadata": {
    "colab": {
      "name": "NEURAL NETWORK.ipynb",
      "provenance": [],
      "collapsed_sections": []
    },
    "kernelspec": {
      "name": "python3",
      "display_name": "Python 3"
    },
    "language_info": {
      "name": "python"
    }
  },
  "cells": [
    {
      "cell_type": "code",
      "metadata": {
        "id": "8hsmZjO_HAQA"
      },
      "source": [
        "import pandas as pd\n",
        "\n",
        "import tensorflow as tf\n",
        "\n",
        "from tensorflow import keras\n",
        "\n",
        "from sklearn.model_selection import train_test_split\n",
        "\n",
        "import numpy as np\n"
      ],
      "execution_count": 2,
      "outputs": []
    },
    {
      "cell_type": "code",
      "metadata": {
        "id": "LYTkUcJWHKgc"
      },
      "source": [
        "df = pd.read_csv('/content/IRIS (1).csv')"
      ],
      "execution_count": 7,
      "outputs": []
    },
    {
      "cell_type": "code",
      "metadata": {
        "colab": {
          "base_uri": "https://localhost:8080/",
          "height": 203
        },
        "id": "iAPCQi73HOz8",
        "outputId": "3c835106-a2f1-4b80-f6d8-23aabe2792a2"
      },
      "source": [
        "df.head()"
      ],
      "execution_count": 8,
      "outputs": [
        {
          "output_type": "execute_result",
          "data": {
            "text/html": [
              "<div>\n",
              "<style scoped>\n",
              "    .dataframe tbody tr th:only-of-type {\n",
              "        vertical-align: middle;\n",
              "    }\n",
              "\n",
              "    .dataframe tbody tr th {\n",
              "        vertical-align: top;\n",
              "    }\n",
              "\n",
              "    .dataframe thead th {\n",
              "        text-align: right;\n",
              "    }\n",
              "</style>\n",
              "<table border=\"1\" class=\"dataframe\">\n",
              "  <thead>\n",
              "    <tr style=\"text-align: right;\">\n",
              "      <th></th>\n",
              "      <th>sepal_length</th>\n",
              "      <th>sepal_width</th>\n",
              "      <th>petal_length</th>\n",
              "      <th>petal_width</th>\n",
              "      <th>species</th>\n",
              "    </tr>\n",
              "  </thead>\n",
              "  <tbody>\n",
              "    <tr>\n",
              "      <th>0</th>\n",
              "      <td>5.1</td>\n",
              "      <td>3.5</td>\n",
              "      <td>1.4</td>\n",
              "      <td>0.2</td>\n",
              "      <td>Iris-setosa</td>\n",
              "    </tr>\n",
              "    <tr>\n",
              "      <th>1</th>\n",
              "      <td>4.9</td>\n",
              "      <td>3.0</td>\n",
              "      <td>1.4</td>\n",
              "      <td>0.2</td>\n",
              "      <td>Iris-setosa</td>\n",
              "    </tr>\n",
              "    <tr>\n",
              "      <th>2</th>\n",
              "      <td>4.7</td>\n",
              "      <td>3.2</td>\n",
              "      <td>1.3</td>\n",
              "      <td>0.2</td>\n",
              "      <td>Iris-setosa</td>\n",
              "    </tr>\n",
              "    <tr>\n",
              "      <th>3</th>\n",
              "      <td>4.6</td>\n",
              "      <td>3.1</td>\n",
              "      <td>1.5</td>\n",
              "      <td>0.2</td>\n",
              "      <td>Iris-setosa</td>\n",
              "    </tr>\n",
              "    <tr>\n",
              "      <th>4</th>\n",
              "      <td>5.0</td>\n",
              "      <td>3.6</td>\n",
              "      <td>1.4</td>\n",
              "      <td>0.2</td>\n",
              "      <td>Iris-setosa</td>\n",
              "    </tr>\n",
              "  </tbody>\n",
              "</table>\n",
              "</div>"
            ],
            "text/plain": [
              "   sepal_length  sepal_width  petal_length  petal_width      species\n",
              "0           5.1          3.5           1.4          0.2  Iris-setosa\n",
              "1           4.9          3.0           1.4          0.2  Iris-setosa\n",
              "2           4.7          3.2           1.3          0.2  Iris-setosa\n",
              "3           4.6          3.1           1.5          0.2  Iris-setosa\n",
              "4           5.0          3.6           1.4          0.2  Iris-setosa"
            ]
          },
          "metadata": {},
          "execution_count": 8
        }
      ]
    },
    {
      "cell_type": "code",
      "metadata": {
        "id": "_n2gnyalJLSh"
      },
      "source": [
        "X = df[['sepal_length','sepal_width',\"petal_length\",\"petal_width\"]]\n",
        "\n",
        "y=df[['species']]"
      ],
      "execution_count": 9,
      "outputs": []
    },
    {
      "cell_type": "code",
      "metadata": {
        "colab": {
          "base_uri": "https://localhost:8080/"
        },
        "id": "Zl0OpvPGJOwu",
        "outputId": "87804fc1-b874-4e26-e75f-f2669421316a"
      },
      "source": [
        "from sklearn.preprocessing import LabelEncoder\n",
        "labelencoder_y= LabelEncoder()  \n",
        "\n",
        "y= labelencoder_y.fit_transform(y) "
      ],
      "execution_count": 10,
      "outputs": [
        {
          "output_type": "stream",
          "name": "stderr",
          "text": [
            "/usr/local/lib/python3.7/dist-packages/sklearn/preprocessing/_label.py:251: DataConversionWarning: A column-vector y was passed when a 1d array was expected. Please change the shape of y to (n_samples, ), for example using ravel().\n",
            "  y = column_or_1d(y, warn=True)\n"
          ]
        }
      ]
    },
    {
      "cell_type": "code",
      "metadata": {
        "colab": {
          "base_uri": "https://localhost:8080/"
        },
        "id": "bdg0CnLfJR68",
        "outputId": "30acf049-2002-490a-8dd0-7e342ed783d1"
      },
      "source": [
        "y"
      ],
      "execution_count": 11,
      "outputs": [
        {
          "output_type": "execute_result",
          "data": {
            "text/plain": [
              "array([0, 0, 0, 0, 0, 0, 0, 0, 0, 0, 0, 0, 0, 0, 0, 0, 0, 0, 0, 0, 0, 0,\n",
              "       0, 0, 0, 0, 0, 0, 0, 0, 0, 0, 0, 0, 0, 0, 0, 0, 0, 0, 0, 0, 0, 0,\n",
              "       0, 0, 0, 0, 0, 0, 1, 1, 1, 1, 1, 1, 1, 1, 1, 1, 1, 1, 1, 1, 1, 1,\n",
              "       1, 1, 1, 1, 1, 1, 1, 1, 1, 1, 1, 1, 1, 1, 1, 1, 1, 1, 1, 1, 1, 1,\n",
              "       1, 1, 1, 1, 1, 1, 1, 1, 1, 1, 1, 1])"
            ]
          },
          "metadata": {},
          "execution_count": 11
        }
      ]
    },
    {
      "cell_type": "code",
      "metadata": {
        "colab": {
          "base_uri": "https://localhost:8080/"
        },
        "id": "5-hp8hguJVVa",
        "outputId": "a8a50b62-3823-47cf-d308-76f2a6dc5596"
      },
      "source": [
        "X_train, X_test, y_train, y_test = train_test_split(X, y, test_size=0.2, random_state=0)\n",
        "\n",
        "\n",
        "model = keras.Sequential([\n",
        "                          \n",
        "    keras.layers.Flatten(input_shape=(4,)), #Input Layer\n",
        "    \n",
        "\n",
        "    keras.layers.Dense(2, activation=tf.nn.relu), #Hidden 1\n",
        "\t \n",
        "    keras.layers.Dense(2, activation=tf.nn.relu),  #Hidden 2\n",
        "   \n",
        "\n",
        "    keras.layers.Dense(1, activation=tf.nn.sigmoid), #Output Layer\n",
        "\n",
        "])\n",
        "\n",
        "\n",
        "model.compile(optimizer='adam',\n",
        "              loss='binary_crossentropy',\n",
        "              metrics=['accuracy'])\n",
        "\n",
        "model.fit(X_train, y_train, epochs=10, batch_size=1)\n",
        "\n",
        "test_loss, test_acc = model.evaluate(X_test, y_test)\n",
        "print('Test accuracy:', test_acc)"
      ],
      "execution_count": 12,
      "outputs": [
        {
          "output_type": "stream",
          "name": "stdout",
          "text": [
            "Epoch 1/10\n",
            "80/80 [==============================] - 1s 1ms/step - loss: 1.8637 - accuracy: 0.5000\n",
            "Epoch 2/10\n",
            "80/80 [==============================] - 0s 1ms/step - loss: 1.4639 - accuracy: 0.5000\n",
            "Epoch 3/10\n",
            "80/80 [==============================] - 0s 1ms/step - loss: 1.2008 - accuracy: 0.5000\n",
            "Epoch 4/10\n",
            "80/80 [==============================] - 0s 1ms/step - loss: 1.0327 - accuracy: 0.5000\n",
            "Epoch 5/10\n",
            "80/80 [==============================] - 0s 1ms/step - loss: 0.9263 - accuracy: 0.5000\n",
            "Epoch 6/10\n",
            "80/80 [==============================] - 0s 1ms/step - loss: 0.8603 - accuracy: 0.5000\n",
            "Epoch 7/10\n",
            "80/80 [==============================] - 0s 1ms/step - loss: 0.8165 - accuracy: 0.5000\n",
            "Epoch 8/10\n",
            "80/80 [==============================] - 0s 1ms/step - loss: 0.7870 - accuracy: 0.5000\n",
            "Epoch 9/10\n",
            "80/80 [==============================] - 0s 1ms/step - loss: 0.7654 - accuracy: 0.5000\n",
            "Epoch 10/10\n",
            "80/80 [==============================] - 0s 1ms/step - loss: 0.7500 - accuracy: 0.5000\n",
            "1/1 [==============================] - 0s 250ms/step - loss: 0.7438 - accuracy: 0.5000\n",
            "Test accuracy: 0.5\n"
          ]
        }
      ]
    },
    {
      "cell_type": "code",
      "metadata": {
        "colab": {
          "base_uri": "https://localhost:8080/"
        },
        "id": "VOXWgussJcfU",
        "outputId": "696fa50f-b5e8-45ec-c603-8e3e1f58be92"
      },
      "source": [
        "print(X_test,y_test)"
      ],
      "execution_count": 13,
      "outputs": [
        {
          "output_type": "stream",
          "name": "stdout",
          "text": [
            "    sepal_length  sepal_width  petal_length  petal_width\n",
            "26           5.0          3.4           1.6          0.4\n",
            "86           6.7          3.1           4.7          1.5\n",
            "2            4.7          3.2           1.3          0.2\n",
            "55           5.7          2.8           4.5          1.3\n",
            "75           6.6          3.0           4.4          1.4\n",
            "93           5.0          2.3           3.3          1.0\n",
            "16           5.4          3.9           1.3          0.4\n",
            "73           6.1          2.8           4.7          1.2\n",
            "54           6.5          2.8           4.6          1.5\n",
            "95           5.7          3.0           4.2          1.2\n",
            "53           5.5          2.3           4.0          1.3\n",
            "92           5.8          2.6           4.0          1.2\n",
            "78           6.0          2.9           4.5          1.5\n",
            "13           4.3          3.0           1.1          0.1\n",
            "7            5.0          3.4           1.5          0.2\n",
            "30           4.8          3.1           1.6          0.2\n",
            "22           4.6          3.6           1.0          0.2\n",
            "24           4.8          3.4           1.9          0.2\n",
            "33           5.5          4.2           1.4          0.2\n",
            "8            4.4          2.9           1.4          0.2 [0 1 0 1 1 1 0 1 1 1 1 1 1 0 0 0 0 0 0 0]\n"
          ]
        }
      ]
    },
    {
      "cell_type": "code",
      "metadata": {
        "colab": {
          "base_uri": "https://localhost:8080/"
        },
        "id": "6YxmfMnpJhOa",
        "outputId": "0f62ed5f-dc99-4224-eecc-563551b4bc86"
      },
      "source": [
        "a= np.array([[5.0,3.4,1.6,0.4]])\n",
        "\n",
        "b = model.predict(a)\n",
        "if b>0.5:\n",
        "  print(\"Iris-setosa\")\n",
        "else:\n",
        "  print(\"Iris versicolour\")"
      ],
      "execution_count": 14,
      "outputs": [
        {
          "output_type": "stream",
          "name": "stdout",
          "text": [
            "Iris versicolour\n"
          ]
        }
      ]
    }
  ]
}